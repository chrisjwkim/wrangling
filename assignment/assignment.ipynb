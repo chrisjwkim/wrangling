{
  "cells": [
    {
      "cell_type": "markdown",
      "id": "13ad028b-72b7-43ed-aa78-96fd4e518040",
      "metadata": {
        "id": "13ad028b-72b7-43ed-aa78-96fd4e518040"
      },
      "source": [
        "# Assignment: Data Wrangling"
      ]
    },
    {
      "cell_type": "markdown",
      "id": "5735a4d4-8be8-433a-a351-70eb8002e632",
      "metadata": {
        "id": "5735a4d4-8be8-433a-a351-70eb8002e632"
      },
      "source": [
        "**Q1.** Open the \"tidy_data.pdf\" document in the repo, which is a paper called Tidy Data by Hadley Wickham.\n",
        "\n",
        "  1. Read the abstract. What is this paper about?\n",
        "  2. Read the introduction. What is the \"tidy data standard\" intended to accomplish?\n",
        "  3. Read the intro to section 2. What does this sentence mean: \"Like families, tidy datasets are all alike but every messy dataset is messy in its own way.\" What does this sentence mean: \"For a given dataset, it’s usually easy to figure out what are observations and what are variables, but it is surprisingly difficult to precisely define variables and observations in general.\"\n",
        "  4. Read Section 2.2. How does Wickham define values, variables, and observations?\n",
        "  5. How is \"Tidy Data\" defined in section 2.3?\n",
        "  6. Read the intro to Section 3 and Section 3.1. What are the 5 most common problems with messy datasets? Why are the data in Table 4 messy? What is \"melting\" a dataset?\n",
        "  7. Why, specifically, is table 11 messy but table 12 tidy and \"molten\"?\n",
        "  8. Read Section 6. What is the \"chicken-and-egg\" problem with focusing on tidy data? What does Wickham hope happens in the future with further work on the subject of data wrangling?"
      ]
    },
    {
      "cell_type": "markdown",
      "source": [
        "1.) The paper is about tidy datasets and the benefits of keeping a consistent structure of tidy data as defined by the abstract.\n",
        "\n",
        "2.) The tidy data standard intends to make initial data exploration and analysis as seemless as possible by organizing data in a way that is tidy. This allows tidy tools to be used without much hassle.\n",
        "\n",
        "3.1) Tidy datasets share common characteristics that make them standardized easy to do analysis on. Each messy dataset are unique in their messiness and require some standardization in the context of tidyness.\n",
        "\n",
        "3.2) Without the necessary context and documentation it is difficult to decipher what characteristics the columns represent. This also holds true for what population is being studied.\n",
        "\n",
        "4.) Wickham defines values as numbers or strings, variables as containing all values measuring the same underlying attributes, and observations as containing all values measured on the same unit across attributes.\n",
        "\n",
        "5.) Data is tidy when each variable forms a column, each observation forms a row, and each type of observation unit forms a table.\n",
        "\n",
        "6.1) The following are the 5 most common problems in messy datasets: column headers being values, multiple variables stored in one column, variables being stored in both rows and columns, multiple types of observational units stored in the same table, and a single observational unit being stored in multiple tables.\n",
        "\n",
        "6.2) Table 4 is considered messy because the column headers are values of the income variable. To be considered tidy, each column header should be a variable.\n",
        "\n",
        "6.3) Melting data means that columns are turned into rows.\n",
        "\n",
        "7) Table 11 has two variables in the element column rendering it messy. Table 12 has individual columns measuring variables and each row measuring the variables of observations.\n",
        "\n",
        "8.1) There seems to be a problem of tidy tools being linked to tidy structures.\n",
        "\n",
        "8.2) He hopes tools related to data wrangling can be improved using methodologies from certain research fields.\n",
        "\n",
        "\n",
        "\n"
      ],
      "metadata": {
        "id": "4CAtwzJDN8YO"
      },
      "id": "4CAtwzJDN8YO"
    },
    {
      "cell_type": "markdown",
      "id": "da879ea7-8aac-48a3-b6c2-daea56d2e072",
      "metadata": {
        "id": "da879ea7-8aac-48a3-b6c2-daea56d2e072"
      },
      "source": [
        "**Q2.** This question provides some practice cleaning variables which have common problems.\n",
        "1. Numeric variable: For `./data/airbnb_hw.csv`, clean the `Price` variable as well as you can, and explain the choices you make. How many missing values do you end up with? (Hint: What happens to the formatting when a price goes over 999 dollars, say from 675 to 1,112?)\n",
        "2. Categorical variable: For the `./data/sharks.csv` data covered in the lecture, clean the \"Type\" variable as well as you can, and explain the choices you make.\n",
        "3. Dummy variable: For the pretrial data covered in the lecture, clean the `WhetherDefendantWasReleasedPretrial` variable as well as you can, and, in particular, replace missing values with `np.nan`.\n",
        "4. Missing values, not at random: For the pretrial data covered in the lecture, clean the `ImposedSentenceAllChargeInContactEvent` variable as well as you can, and explain the choices you make. (Hint: Look at the `SentenceTypeAllChargesAtConvictionInContactEvent` variable.)"
      ]
    },
    {
      "cell_type": "code",
      "source": [
        "! git clone https://github.com/DS3001/wrangling"
      ],
      "metadata": {
        "id": "A4ZHmqImbAVV",
        "outputId": "f9e3acd5-d151-4d33-dd55-48547cb36772",
        "colab": {
          "base_uri": "https://localhost:8080/"
        }
      },
      "id": "A4ZHmqImbAVV",
      "execution_count": 6,
      "outputs": [
        {
          "output_type": "stream",
          "name": "stdout",
          "text": [
            "fatal: destination path 'wrangling' already exists and is not an empty directory.\n"
          ]
        }
      ]
    },
    {
      "cell_type": "code",
      "source": [
        "#\n",
        "\n",
        "import pandas as pd\n",
        "df = pd.read_csv('./wrangling/assignment/data/airbnb_hw.csv')\n",
        "df.head()\n",
        "df[\"Price\"].unique()\n",
        "\n",
        "df[\"Price\"] = df[\"Price\"].str.replace(\",\",\"\")\n",
        "\n",
        "df[\"Price\"] = pd.to_numeric(df[\"Price\"])\n",
        "\n",
        "df.dtypes"
      ],
      "metadata": {
        "id": "-okRjfWiZhTh",
        "outputId": "d3d53df9-7ce1-4057-ab25-4447ce12f22c",
        "colab": {
          "base_uri": "https://localhost:8080/"
        }
      },
      "id": "-okRjfWiZhTh",
      "execution_count": 27,
      "outputs": [
        {
          "output_type": "execute_result",
          "data": {
            "text/plain": [
              "Host Id                         int64\n",
              "Host Since                     object\n",
              "Name                           object\n",
              "Neighbourhood                  object\n",
              "Property Type                  object\n",
              "Review Scores Rating (bin)    float64\n",
              "Room Type                      object\n",
              "Zipcode                       float64\n",
              "Beds                          float64\n",
              "Number of Records               int64\n",
              "Number Of Reviews               int64\n",
              "Price                           int64\n",
              "Review Scores Rating          float64\n",
              "dtype: object"
            ]
          },
          "metadata": {},
          "execution_count": 27
        }
      ]
    },
    {
      "cell_type": "markdown",
      "id": "649494cd-cfd6-4f80-992a-9994fc19e1d5",
      "metadata": {
        "id": "649494cd-cfd6-4f80-992a-9994fc19e1d5"
      },
      "source": [
        "**Q3.** Many important datasets contain a race variable, typically limited to a handful of values often including Black, White, Asian, Latino, and Indigenous. This question looks at data gathering efforts on this variable by the U.S. Federal government.\n",
        "\n",
        "1. How did the most recent US Census gather data on race?\n",
        "2. Why do we gather these data? What role do these kinds of data play in politics and society? Why does data quality matter?\n",
        "3. Please provide a constructive criticism of how the Census was conducted: What was done well? What do you think was missing? How should future large scale surveys be adjusted to best reflect the diversity of the population? Could some of the Census' good practices be adopted more widely to gather richer and more useful data?\n",
        "4. How did the Census gather data on sex and gender? Please provide a similar constructive criticism of their practices.\n",
        "5. When it comes to cleaning data, what concerns do you have about protected characteristics like sex, gender, sexual identity, or race? What challenges can you imagine arising when there are missing values? What good or bad practices might people adopt, and why?\n",
        "6. Suppose someone invented an algorithm to impute values for protected characteristics like race, gender, sex, or sexuality. What kinds of concerns would you have?"
      ]
    }
  ],
  "metadata": {
    "colab": {
      "provenance": []
    },
    "kernelspec": {
      "display_name": "Python 3 (ipykernel)",
      "language": "python",
      "name": "python3"
    },
    "language_info": {
      "codemirror_mode": {
        "name": "ipython",
        "version": 3
      },
      "file_extension": ".py",
      "mimetype": "text/x-python",
      "name": "python",
      "nbconvert_exporter": "python",
      "pygments_lexer": "ipython3",
      "version": "3.10.4"
    }
  },
  "nbformat": 4,
  "nbformat_minor": 5
}