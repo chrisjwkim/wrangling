{
  "cells": [
    {
      "cell_type": "markdown",
      "id": "13ad028b-72b7-43ed-aa78-96fd4e518040",
      "metadata": {
        "id": "13ad028b-72b7-43ed-aa78-96fd4e518040"
      },
      "source": [
        "# Assignment: Data Wrangling"
      ]
    },
    {
      "cell_type": "markdown",
      "id": "5735a4d4-8be8-433a-a351-70eb8002e632",
      "metadata": {
        "id": "5735a4d4-8be8-433a-a351-70eb8002e632"
      },
      "source": [
        "**Q1.** Open the \"tidy_data.pdf\" document in the repo, which is a paper called Tidy Data by Hadley Wickham.\n",
        "\n",
        "  1. Read the abstract. What is this paper about?\n",
        "  2. Read the introduction. What is the \"tidy data standard\" intended to accomplish?\n",
        "  3. Read the intro to section 2. What does this sentence mean: \"Like families, tidy datasets are all alike but every messy dataset is messy in its own way.\" What does this sentence mean: \"For a given dataset, it’s usually easy to figure out what are observations and what are variables, but it is surprisingly difficult to precisely define variables and observations in general.\"\n",
        "  4. Read Section 2.2. How does Wickham define values, variables, and observations?\n",
        "  5. How is \"Tidy Data\" defined in section 2.3?\n",
        "  6. Read the intro to Section 3 and Section 3.1. What are the 5 most common problems with messy datasets? Why are the data in Table 4 messy? What is \"melting\" a dataset?\n",
        "  7. Why, specifically, is table 11 messy but table 12 tidy and \"molten\"?\n",
        "  8. Read Section 6. What is the \"chicken-and-egg\" problem with focusing on tidy data? What does Wickham hope happens in the future with further work on the subject of data wrangling?"
      ]
    },
    {
      "cell_type": "markdown",
      "source": [
        "1.) The paper is about tidy datasets and the benefits of keeping a consistent structure of tidy data as defined by the abstract.\n",
        "\n",
        "2.) The tidy data standard intends to make initial data exploration and analysis as seemless as possible by organizing data in a way that is tidy. This allows tidy tools to be used without much hassle.\n",
        "\n",
        "3.1) Tidy datasets share common characteristics that make them standardized easy to do analysis on. Each messy dataset are unique in their messiness and require some standardization in the context of tidyness.\n",
        "\n",
        "3.2) Without the necessary context and documentation it is difficult to decipher what characteristics the columns represent. This also holds true for what population is being studied.\n",
        "\n",
        "4.) Wickham defines values as numbers or strings, variables as containing all values measuring the same underlying attributes, and observations as containing all values measured on the same unit across attributes.\n",
        "\n",
        "5.) Data is tidy when each variable forms a column, each observation forms a row, and each type of observation unit forms a table.\n",
        "\n",
        "6.1) The following are the 5 most common problems in messy datasets: column headers being values, multiple variables stored in one column, variables being stored in both rows and columns, multiple types of observational units stored in the same table, and a single observational unit being stored in multiple tables.\n",
        "\n",
        "6.2) Table 4 is considered messy because the column headers are values of the income variable. To be considered tidy, each column header should be a variable.\n",
        "\n",
        "6.3) Melting data means that columns are turned into rows.\n",
        "\n",
        "7) Table 11 has two variables in the element column rendering it messy. Table 12 has individual columns measuring variables and each row measuring the variables of observations.\n",
        "\n",
        "8.1) There seems to be a problem of tidy tools being linked to tidy structures.\n",
        "\n",
        "8.2) He hopes tools related to data wrangling can be improved using methodologies from certain research fields.\n",
        "\n",
        "\n",
        "\n"
      ],
      "metadata": {
        "id": "4CAtwzJDN8YO"
      },
      "id": "4CAtwzJDN8YO"
    },
    {
      "cell_type": "markdown",
      "id": "da879ea7-8aac-48a3-b6c2-daea56d2e072",
      "metadata": {
        "id": "da879ea7-8aac-48a3-b6c2-daea56d2e072"
      },
      "source": [
        "**Q2.** This question provides some practice cleaning variables which have common problems.\n",
        "1. Numeric variable: For `./data/airbnb_hw.csv`, clean the `Price` variable as well as you can, and explain the choices you make. How many missing values do you end up with? (Hint: What happens to the formatting when a price goes over 999 dollars, say from 675 to 1,112?)\n",
        "2. Categorical variable: For the `./data/sharks.csv` data covered in the lecture, clean the \"Type\" variable as well as you can, and explain the choices you make.\n",
        "3. Dummy variable: For the pretrial data covered in the lecture, clean the `WhetherDefendantWasReleasedPretrial` variable as well as you can, and, in particular, replace missing values with `np.nan`.\n",
        "4. Missing values, not at random: For the pretrial data covered in the lecture, clean the `ImposedSentenceAllChargeInContactEvent` variable as well as you can, and explain the choices you make. (Hint: Look at the `SentenceTypeAllChargesAtConvictionInContactEvent` variable.)"
      ]
    },
    {
      "cell_type": "code",
      "source": [
        "! git clone https://github.com/DS3001/wrangling"
      ],
      "metadata": {
        "id": "A4ZHmqImbAVV",
        "outputId": "d96780c0-f81b-45e2-f082-2243555853b2",
        "colab": {
          "base_uri": "https://localhost:8080/"
        }
      },
      "id": "A4ZHmqImbAVV",
      "execution_count": 1,
      "outputs": [
        {
          "output_type": "stream",
          "name": "stdout",
          "text": [
            "Cloning into 'wrangling'...\n",
            "remote: Enumerating objects: 83, done.\u001b[K\n",
            "remote: Counting objects: 100% (40/40), done.\u001b[K\n",
            "remote: Compressing objects: 100% (29/29), done.\u001b[K\n",
            "remote: Total 83 (delta 31), reused 11 (delta 11), pack-reused 43\u001b[K\n",
            "Receiving objects: 100% (83/83), 10.85 MiB | 15.45 MiB/s, done.\n",
            "Resolving deltas: 100% (36/36), done.\n"
          ]
        }
      ]
    },
    {
      "cell_type": "code",
      "source": [
        "#\n",
        "\n",
        "import pandas as pd\n",
        "df = pd.read_csv('./wrangling/assignment/data/airbnb_hw.csv')\n",
        "df.head()\n",
        "df[\"Price\"].unique()\n",
        "\n",
        "df[\"Price\"] = df[\"Price\"].str.replace(\",\",\"\")\n",
        "\n",
        "df[\"Price\"] = pd.to_numeric(df[\"Price\"])\n",
        "\n",
        "print(\"Ended up with \",df[\"Price\"].isna().sum(), \" missing values.\")\n"
      ],
      "metadata": {
        "id": "-okRjfWiZhTh",
        "outputId": "537489c9-8394-4ccd-d898-21a3b646f651",
        "colab": {
          "base_uri": "https://localhost:8080/"
        }
      },
      "id": "-okRjfWiZhTh",
      "execution_count": 8,
      "outputs": [
        {
          "output_type": "stream",
          "name": "stdout",
          "text": [
            "Ended up with  0  missing values.\n"
          ]
        }
      ]
    },
    {
      "cell_type": "code",
      "source": [
        "import numpy as np\n",
        "df1 = pd.read_csv(\"./wrangling/assignment/data/sharks.csv\")\n",
        "df1.dtypes\n",
        "df1[\"Type\"].unique\n",
        "print('\\n',df1[\"Type\"].value_counts(),'\\n')\n",
        "\n",
        "df1.loc[((df1[\"Type\"] == \"Invalid\") |(df1[\"Type\"] == \"Questionable\") |(df1[\"Type\"] == \"Unconfirmed\")|(df1[\"Type\"] == \"Unverified\") |(df1[\"Type\"] == \"Under investigation\")),\"Type\"] = np.nan\n",
        "\n",
        "df1.loc[((df1[\"Type\"]==\"Sea Disaster\") |\n",
        "         (df1[\"Type\"]=='Boat') |\n",
        "         (df1[\"Type\"]=='Boating') |\n",
        "          (df1[\"Type\"]=='Boatomg')),\"Type\"] = 'Watercraft'\n",
        "\n",
        "print('\\n',df1[\"Type\"].value_counts(),'\\n')\n",
        "\n",
        "print('\\n',df1[\"Type\"].value_counts()[\"Unprovoked\"], \"unprovoked attacks\\n\",\n",
        "      df1[\"Type\"].value_counts()[\"Provoked\"], \"provoked attacks\\n\",\n",
        "      df1[\"Type\"].value_counts()[\"Watercraft\"], \"Watercraft attacks\\n\",\n",
        "      df1[\"Type\"].isna().sum(), \"missing values\")\n",
        "\n"
      ],
      "metadata": {
        "colab": {
          "base_uri": "https://localhost:8080/"
        },
        "id": "chSoU-n1LSTc",
        "outputId": "c0d42238-d821-43c6-b1f6-a7de6e47ffcf"
      },
      "id": "chSoU-n1LSTc",
      "execution_count": 27,
      "outputs": [
        {
          "output_type": "stream",
          "name": "stdout",
          "text": [
            "\n",
            " Unprovoked             4716\n",
            "Provoked                593\n",
            "Invalid                 552\n",
            "Sea Disaster            239\n",
            "Watercraft              142\n",
            "Boat                    109\n",
            "Boating                  92\n",
            "Questionable             10\n",
            "Unconfirmed               1\n",
            "Unverified                1\n",
            "Under investigation       1\n",
            "Boatomg                   1\n",
            "Name: Type, dtype: int64 \n",
            "\n",
            "\n",
            " Unprovoked    4716\n",
            "Provoked       593\n",
            "Watercraft     583\n",
            "Name: Type, dtype: int64 \n",
            "\n",
            "\n",
            " 4716 unprovoked attacks\n",
            " 593 provoked attacks\n",
            " 583 Watercraft attacks\n",
            " 570 missing values\n"
          ]
        },
        {
          "output_type": "stream",
          "name": "stderr",
          "text": [
            "<ipython-input-27-d2dab8323222>:2: DtypeWarning: Columns (10,17,18,19,20,21,24) have mixed types. Specify dtype option on import or set low_memory=False.\n",
            "  df1 = pd.read_csv(\"./wrangling/assignment/data/sharks.csv\")\n"
          ]
        }
      ]
    },
    {
      "cell_type": "markdown",
      "source": [
        "Values of invalid, questionable, unconfirmed, unverified, and under investigation were turned into null values. Values of sea disaster, boat, boating, and boatomg were turned into the watercraft value."
      ],
      "metadata": {
        "id": "SJbBXsiQ1P_h"
      },
      "id": "SJbBXsiQ1P_h"
    },
    {
      "cell_type": "code",
      "source": [
        "df2 = pd.read_csv(\"./wrangling/assignment/data/October 2017 Cohort_Virginia Pretrial Data Project_Deidentified FINAL Update_10272021.csv\")\n",
        "df2[\"WhetherDefendantWasReleasedPretrial\"].value_counts()\n",
        "df2.loc[df2[\"WhetherDefendantWasReleasedPretrial\"]==9]=np.nan\n",
        "print(df2[\"WhetherDefendantWasReleasedPretrial\"].value_counts())\n",
        "\n",
        "print(df2[\"ImposedSentenceAllChargeInContactEvent\"].value_counts())\n",
        "\n",
        "length = df2['ImposedSentenceAllChargeInContactEvent']\n",
        "\n",
        "length.dtype"
      ],
      "metadata": {
        "colab": {
          "base_uri": "https://localhost:8080/"
        },
        "id": "Uv08nZ026J9c",
        "outputId": "1a26161c-5b87-4b1b-9be4-171c64517274"
      },
      "id": "Uv08nZ026J9c",
      "execution_count": 37,
      "outputs": [
        {
          "output_type": "stream",
          "name": "stderr",
          "text": [
            "<ipython-input-37-8cd0ec40ce52>:1: DtypeWarning: Columns (1,4,5,7,79,80,81,82,83,84,108,163,164,165,166,168,169,170,171,172,173,174,175,176,177,178,179,180,181,182,183,184,185,186,187,188,189,190,191,192,193,194,195,196,197,198,199,200,201,202,203,204,205,206,207,208,209,210,211,212,213,214,215,216,217,218,219,220,221,222,223,224,225,226,227,228,229,230,231,232,233,234,235,236,237,238,239,240,241,242,243,244,245,246,247,248,249,250,251,252,253,254,255,256,257,258,259,260,261,262,263,264,265,266,267,268,270,271,272,273,275,276,277,278,279,280,281,282,283,284,285,286,287,288,289,290,291,292,293,294,295,296,297,301,302,303,306,307,308,309,310,311,312,313,314,315,316,317,318,319,320,321,322,323,324,325,326,327,328,329,330,331,332,333,334,335,336,337,338,339,340,341,342,343,344,345,346,347,348,349,350,351,352,353,354,355,356,357,358,359,360,361,362,363,364,365,366,367,368,369,370,371,372,373,374,375,376,377,378,379,380,381,382,383,384,385,386,387,388,389,390,391,392,393,394,395,396,397,398,399,400,401,402,403,404,405,406,407,408,409,410,411,412,413,414,415,416,417,418,419,420,421,422,423,424,425,426,427,428,429,430,431,432,433,434,435,436,437,438,439,440,441,442,443,444,445,446,447,448,449,450,451,452,453,454,455,456,457,458,459,460,461,462,463,464,465,466,467,468,469,470,471,472,473,474,475,476,477,478,479,480,481,482,483,484,485,486,487,488,489,490,491,492,493,494,495,496,497,498,499,500,502,503,504,505,506,507,508,509,510,511,512,513,514,515,516,517,518,519,520,521,522,523,524,525,526,527,528,529,530,531,532,533,534,535,536,537,538,539,540,541,542,543,544,545,706) have mixed types. Specify dtype option on import or set low_memory=False.\n",
            "  df2 = pd.read_csv(\"./wrangling/assignment/data/October 2017 Cohort_Virginia Pretrial Data Project_Deidentified FINAL Update_10272021.csv\")\n"
          ]
        },
        {
          "output_type": "stream",
          "name": "stdout",
          "text": [
            "1.0    19154\n",
            "0.0     3801\n",
            "Name: WhetherDefendantWasReleasedPretrial, dtype: int64\n",
            "                    9036\n",
            "0                   4951\n",
            "12                  1402\n",
            ".985626283367556    1051\n",
            "6                    808\n",
            "                    ... \n",
            "49.9712525667351       1\n",
            "57.0349075975359       1\n",
            "79.9260780287474       1\n",
            "42.1642710472279       1\n",
            "1.6570841889117        1\n",
            "Name: ImposedSentenceAllChargeInContactEvent, Length: 484, dtype: int64\n"
          ]
        },
        {
          "output_type": "execute_result",
          "data": {
            "text/plain": [
              "dtype('O')"
            ]
          },
          "metadata": {},
          "execution_count": 37
        }
      ]
    },
    {
      "cell_type": "markdown",
      "id": "649494cd-cfd6-4f80-992a-9994fc19e1d5",
      "metadata": {
        "id": "649494cd-cfd6-4f80-992a-9994fc19e1d5"
      },
      "source": [
        "**Q3.** Many important datasets contain a race variable, typically limited to a handful of values often including Black, White, Asian, Latino, and Indigenous. This question looks at data gathering efforts on this variable by the U.S. Federal government.\n",
        "\n",
        "1. How did the most recent US Census gather data on race?\n",
        "2. Why do we gather these data? What role do these kinds of data play in politics and society? Why does data quality matter?\n",
        "3. Please provide a constructive criticism of how the Census was conducted: What was done well? What do you think was missing? How should future large scale surveys be adjusted to best reflect the diversity of the population? Could some of the Census' good practices be adopted more widely to gather richer and more useful data?\n",
        "4. How did the Census gather data on sex and gender? Please provide a similar constructive criticism of their practices.\n",
        "5. When it comes to cleaning data, what concerns do you have about protected characteristics like sex, gender, sexual identity, or race? What challenges can you imagine arising when there are missing values? What good or bad practices might people adopt, and why?\n",
        "6. Suppose someone invented an algorithm to impute values for protected characteristics like race, gender, sex, or sexuality. What kinds of concerns would you have?"
      ]
    },
    {
      "cell_type": "markdown",
      "source": [
        "1.) The collection procedure on race data for the US Census is that of self-identification.\n",
        "\n",
        "2.) The collection of census data ensures an appropriate distribution of federal funds for schools, roads, and various public services.\n",
        "\n",
        "3.)"
      ],
      "metadata": {
        "id": "tvKdXHP62Ag3"
      },
      "id": "tvKdXHP62Ag3"
    }
  ],
  "metadata": {
    "colab": {
      "provenance": []
    },
    "kernelspec": {
      "display_name": "Python 3 (ipykernel)",
      "language": "python",
      "name": "python3"
    },
    "language_info": {
      "codemirror_mode": {
        "name": "ipython",
        "version": 3
      },
      "file_extension": ".py",
      "mimetype": "text/x-python",
      "name": "python",
      "nbconvert_exporter": "python",
      "pygments_lexer": "ipython3",
      "version": "3.10.4"
    }
  },
  "nbformat": 4,
  "nbformat_minor": 5
}